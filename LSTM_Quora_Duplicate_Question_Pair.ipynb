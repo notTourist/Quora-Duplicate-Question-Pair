{
  "nbformat": 4,
  "nbformat_minor": 0,
  "metadata": {
    "colab": {
      "provenance": [],
      "gpuType": "T4",
      "authorship_tag": "ABX9TyPCYw60Yoi170GuPUz3YGvz",
      "include_colab_link": true
    },
    "kernelspec": {
      "name": "python3",
      "display_name": "Python 3"
    },
    "language_info": {
      "name": "python"
    },
    "accelerator": "GPU"
  },
  "cells": [
    {
      "cell_type": "markdown",
      "metadata": {
        "id": "view-in-github",
        "colab_type": "text"
      },
      "source": [
        "<a href=\"https://colab.research.google.com/github/Rupesh-Kataria/Quora-Duplicate-Question-Pair/blob/main/LSTM_Quora_Duplicate_Question_Pair.ipynb\" target=\"_parent\"><img src=\"https://colab.research.google.com/assets/colab-badge.svg\" alt=\"Open In Colab\"/></a>"
      ]
    },
    {
      "cell_type": "code",
      "execution_count": 2,
      "metadata": {
        "colab": {
          "base_uri": "https://localhost:8080/"
        },
        "id": "m3fDWExncZDP",
        "outputId": "f54ca672-77aa-4589-cb4a-936285bb1247"
      },
      "outputs": [
        {
          "output_type": "stream",
          "name": "stdout",
          "text": [
            "Drive already mounted at /content/gdrive; to attempt to forcibly remount, call drive.mount(\"/content/gdrive\", force_remount=True).\n"
          ]
        }
      ],
      "source": [
        "from google.colab import drive\n",
        "drive.mount('/content/gdrive')"
      ]
    },
    {
      "cell_type": "code",
      "source": [
        "!ln -s /content/gdrive/My\\ Drive/ /mydrive"
      ],
      "metadata": {
        "id": "yJ-Dqq84cs1N"
      },
      "execution_count": 3,
      "outputs": []
    },
    {
      "cell_type": "code",
      "source": [
        "%cd /mydrive/lstm_duplicate_question_detection"
      ],
      "metadata": {
        "colab": {
          "base_uri": "https://localhost:8080/"
        },
        "id": "4kGszrUUc_pl",
        "outputId": "bda43478-9c02-49e9-9980-ee7d2a52f314"
      },
      "execution_count": 4,
      "outputs": [
        {
          "output_type": "stream",
          "name": "stdout",
          "text": [
            "/content/gdrive/My Drive/lstm_duplicate_question_detection\n"
          ]
        }
      ]
    },
    {
      "cell_type": "code",
      "source": [
        "!pip install -q kaggle\n",
        "! mkdir ~/.kaggle\n",
        "! cp kaggle.json ~/.kaggle/\n",
        "! chmod 600 ~/.kaggle/kaggle.json\n",
        "!kaggle competitions download -c quora-question-pairs"
      ],
      "metadata": {
        "colab": {
          "base_uri": "https://localhost:8080/"
        },
        "id": "QUP1c3HMdOK3",
        "outputId": "d7c06287-7a9d-435f-fa39-5672e742d3f3"
      },
      "execution_count": 7,
      "outputs": [
        {
          "output_type": "stream",
          "name": "stdout",
          "text": [
            "mkdir: cannot create directory ‘/root/.kaggle’: File exists\n",
            "Downloading quora-question-pairs.zip to /content/gdrive/MyDrive/lstm_duplicate_question_detection\n",
            " 97% 301M/309M [00:05<00:00, 24.7MB/s]\n",
            "100% 309M/309M [00:05<00:00, 63.1MB/s]\n"
          ]
        }
      ]
    },
    {
      "cell_type": "code",
      "source": [
        "!unzip quora-question-pairs.zip\n",
        "!rm -f quora-question-pairs.zip"
      ],
      "metadata": {
        "colab": {
          "base_uri": "https://localhost:8080/"
        },
        "id": "acHoCfHAeh4i",
        "outputId": "b943e094-0851-4637-dbc1-e3b580c726dd"
      },
      "execution_count": 8,
      "outputs": [
        {
          "output_type": "stream",
          "name": "stdout",
          "text": [
            "Archive:  quora-question-pairs.zip\n",
            "  inflating: sample_submission.csv.zip  \n",
            "  inflating: test.csv                \n",
            "  inflating: test.csv.zip            \n",
            "  inflating: train.csv.zip           \n"
          ]
        }
      ]
    },
    {
      "cell_type": "code",
      "source": [
        "!pip install num2words"
      ],
      "metadata": {
        "colab": {
          "base_uri": "https://localhost:8080/"
        },
        "id": "L_s1yg9Jfff2",
        "outputId": "c60eb260-8db7-4f00-f18b-606ae87b36e8"
      },
      "execution_count": 11,
      "outputs": [
        {
          "output_type": "stream",
          "name": "stdout",
          "text": [
            "Looking in indexes: https://pypi.org/simple, https://us-python.pkg.dev/colab-wheels/public/simple/\n",
            "Requirement already satisfied: num2words in /usr/local/lib/python3.10/dist-packages (0.5.12)\n",
            "Requirement already satisfied: docopt>=0.6.2 in /usr/local/lib/python3.10/dist-packages (from num2words) (0.6.2)\n"
          ]
        }
      ]
    },
    {
      "cell_type": "code",
      "source": [
        "#basics\n",
        "import numpy as np\n",
        "import pandas as pd\n",
        "\n",
        "#visualisation\n",
        "import matplotlib.pyplot as plt\n",
        "import seaborn as sns\n",
        "from tensorflow.keras.utils import plot_model\n",
        "\n",
        "#text_processing\n",
        "from num2words import num2words\n",
        "import re\n",
        "import nltk\n",
        "import string\n",
        "from nltk.corpus import stopwords\n",
        "from nltk import sent_tokenize, word_tokenize\n",
        "from nltk.stem import SnowballStemmer\n",
        "\n",
        "#data preperation\n",
        "from sklearn.model_selection import train_test_split\n",
        "from keras.preprocessing.text import Tokenizer\n",
        "from tensorflow.keras.preprocessing.sequence import pad_sequences\n",
        "\n",
        "#Neural Network\n",
        "from tensorflow.keras import Sequential\n",
        "from tensorflow.keras.models import Model\n",
        "from tensorflow.keras.regularizers import l2\n",
        "from tensorflow.keras.layers import BatchNormalization\n",
        "from tensorflow.keras.layers import Embedding, LSTM, Dropout, concatenate, Input, Dense\n",
        "from tensorflow.keras.layers import Bidirectional, Attention, Reshape, Flatten\n",
        "from tensorflow.keras.callbacks import ModelCheckpoint, EarlyStopping\n",
        "\n",
        "#other\n",
        "from tqdm import tqdm\n",
        "import gc\n",
        "\n",
        "#warnings\n",
        "import warnings\n",
        "warnings.filterwarnings(\"ignore\")"
      ],
      "metadata": {
        "id": "lHEJRrBIfphf"
      },
      "execution_count": 5,
      "outputs": []
    },
    {
      "cell_type": "code",
      "source": [
        "nltk.download('stopwords')\n",
        "nltk.download('punkt')\n",
        "nltk.download('wordnet')"
      ],
      "metadata": {
        "colab": {
          "base_uri": "https://localhost:8080/"
        },
        "id": "0Bt2gX5kgBBj",
        "outputId": "7d2eb97e-5c6c-4970-b013-3e215dbc30b5"
      },
      "execution_count": 9,
      "outputs": [
        {
          "output_type": "stream",
          "name": "stderr",
          "text": [
            "[nltk_data] Downloading package stopwords to /root/nltk_data...\n",
            "[nltk_data]   Package stopwords is already up-to-date!\n",
            "[nltk_data] Downloading package punkt to /root/nltk_data...\n",
            "[nltk_data]   Package punkt is already up-to-date!\n",
            "[nltk_data] Downloading package wordnet to /root/nltk_data...\n",
            "[nltk_data]   Package wordnet is already up-to-date!\n"
          ]
        },
        {
          "output_type": "execute_result",
          "data": {
            "text/plain": [
              "True"
            ]
          },
          "metadata": {},
          "execution_count": 9
        }
      ]
    },
    {
      "cell_type": "code",
      "source": [
        "nltk.download('omw-1.4')"
      ],
      "metadata": {
        "colab": {
          "base_uri": "https://localhost:8080/"
        },
        "id": "YtT14qMDhDmd",
        "outputId": "83fd43e6-52c0-4eb3-efdc-a412656e01c9"
      },
      "execution_count": 10,
      "outputs": [
        {
          "output_type": "stream",
          "name": "stderr",
          "text": [
            "[nltk_data] Downloading package omw-1.4 to /root/nltk_data...\n",
            "[nltk_data]   Package omw-1.4 is already up-to-date!\n"
          ]
        },
        {
          "output_type": "execute_result",
          "data": {
            "text/plain": [
              "True"
            ]
          },
          "metadata": {},
          "execution_count": 10
        }
      ]
    },
    {
      "cell_type": "code",
      "source": [
        "seed=42\n",
        "batch_size=2048\n",
        "epochs=30\n",
        "threshold=0.5"
      ],
      "metadata": {
        "id": "Ono5AYkkhkwI"
      },
      "execution_count": 6,
      "outputs": []
    },
    {
      "cell_type": "code",
      "source": [
        "df = pd.read_csv('train.csv.zip')\n",
        "df.head()"
      ],
      "metadata": {
        "colab": {
          "base_uri": "https://localhost:8080/",
          "height": 354
        },
        "id": "n9Yg5ulLi32Z",
        "outputId": "2c07fc30-ecfd-4193-e4b0-ee2f85fbb37e"
      },
      "execution_count": 8,
      "outputs": [
        {
          "output_type": "execute_result",
          "data": {
            "text/plain": [
              "   id  qid1  qid2                                          question1  \\\n",
              "0   0     1     2  What is the step by step guide to invest in sh...   \n",
              "1   1     3     4  What is the story of Kohinoor (Koh-i-Noor) Dia...   \n",
              "2   2     5     6  How can I increase the speed of my internet co...   \n",
              "3   3     7     8  Why am I mentally very lonely? How can I solve...   \n",
              "4   4     9    10  Which one dissolve in water quikly sugar, salt...   \n",
              "\n",
              "                                           question2  is_duplicate  \n",
              "0  What is the step by step guide to invest in sh...             0  \n",
              "1  What would happen if the Indian government sto...             0  \n",
              "2  How can Internet speed be increased by hacking...             0  \n",
              "3  Find the remainder when [math]23^{24}[/math] i...             0  \n",
              "4            Which fish would survive in salt water?             0  "
            ],
            "text/html": [
              "\n",
              "  <div id=\"df-d37d1ea8-1807-4690-9c32-42012427c7f6\">\n",
              "    <div class=\"colab-df-container\">\n",
              "      <div>\n",
              "<style scoped>\n",
              "    .dataframe tbody tr th:only-of-type {\n",
              "        vertical-align: middle;\n",
              "    }\n",
              "\n",
              "    .dataframe tbody tr th {\n",
              "        vertical-align: top;\n",
              "    }\n",
              "\n",
              "    .dataframe thead th {\n",
              "        text-align: right;\n",
              "    }\n",
              "</style>\n",
              "<table border=\"1\" class=\"dataframe\">\n",
              "  <thead>\n",
              "    <tr style=\"text-align: right;\">\n",
              "      <th></th>\n",
              "      <th>id</th>\n",
              "      <th>qid1</th>\n",
              "      <th>qid2</th>\n",
              "      <th>question1</th>\n",
              "      <th>question2</th>\n",
              "      <th>is_duplicate</th>\n",
              "    </tr>\n",
              "  </thead>\n",
              "  <tbody>\n",
              "    <tr>\n",
              "      <th>0</th>\n",
              "      <td>0</td>\n",
              "      <td>1</td>\n",
              "      <td>2</td>\n",
              "      <td>What is the step by step guide to invest in sh...</td>\n",
              "      <td>What is the step by step guide to invest in sh...</td>\n",
              "      <td>0</td>\n",
              "    </tr>\n",
              "    <tr>\n",
              "      <th>1</th>\n",
              "      <td>1</td>\n",
              "      <td>3</td>\n",
              "      <td>4</td>\n",
              "      <td>What is the story of Kohinoor (Koh-i-Noor) Dia...</td>\n",
              "      <td>What would happen if the Indian government sto...</td>\n",
              "      <td>0</td>\n",
              "    </tr>\n",
              "    <tr>\n",
              "      <th>2</th>\n",
              "      <td>2</td>\n",
              "      <td>5</td>\n",
              "      <td>6</td>\n",
              "      <td>How can I increase the speed of my internet co...</td>\n",
              "      <td>How can Internet speed be increased by hacking...</td>\n",
              "      <td>0</td>\n",
              "    </tr>\n",
              "    <tr>\n",
              "      <th>3</th>\n",
              "      <td>3</td>\n",
              "      <td>7</td>\n",
              "      <td>8</td>\n",
              "      <td>Why am I mentally very lonely? How can I solve...</td>\n",
              "      <td>Find the remainder when [math]23^{24}[/math] i...</td>\n",
              "      <td>0</td>\n",
              "    </tr>\n",
              "    <tr>\n",
              "      <th>4</th>\n",
              "      <td>4</td>\n",
              "      <td>9</td>\n",
              "      <td>10</td>\n",
              "      <td>Which one dissolve in water quikly sugar, salt...</td>\n",
              "      <td>Which fish would survive in salt water?</td>\n",
              "      <td>0</td>\n",
              "    </tr>\n",
              "  </tbody>\n",
              "</table>\n",
              "</div>\n",
              "      <button class=\"colab-df-convert\" onclick=\"convertToInteractive('df-d37d1ea8-1807-4690-9c32-42012427c7f6')\"\n",
              "              title=\"Convert this dataframe to an interactive table.\"\n",
              "              style=\"display:none;\">\n",
              "        \n",
              "  <svg xmlns=\"http://www.w3.org/2000/svg\" height=\"24px\"viewBox=\"0 0 24 24\"\n",
              "       width=\"24px\">\n",
              "    <path d=\"M0 0h24v24H0V0z\" fill=\"none\"/>\n",
              "    <path d=\"M18.56 5.44l.94 2.06.94-2.06 2.06-.94-2.06-.94-.94-2.06-.94 2.06-2.06.94zm-11 1L8.5 8.5l.94-2.06 2.06-.94-2.06-.94L8.5 2.5l-.94 2.06-2.06.94zm10 10l.94 2.06.94-2.06 2.06-.94-2.06-.94-.94-2.06-.94 2.06-2.06.94z\"/><path d=\"M17.41 7.96l-1.37-1.37c-.4-.4-.92-.59-1.43-.59-.52 0-1.04.2-1.43.59L10.3 9.45l-7.72 7.72c-.78.78-.78 2.05 0 2.83L4 21.41c.39.39.9.59 1.41.59.51 0 1.02-.2 1.41-.59l7.78-7.78 2.81-2.81c.8-.78.8-2.07 0-2.86zM5.41 20L4 18.59l7.72-7.72 1.47 1.35L5.41 20z\"/>\n",
              "  </svg>\n",
              "      </button>\n",
              "      \n",
              "  <style>\n",
              "    .colab-df-container {\n",
              "      display:flex;\n",
              "      flex-wrap:wrap;\n",
              "      gap: 12px;\n",
              "    }\n",
              "\n",
              "    .colab-df-convert {\n",
              "      background-color: #E8F0FE;\n",
              "      border: none;\n",
              "      border-radius: 50%;\n",
              "      cursor: pointer;\n",
              "      display: none;\n",
              "      fill: #1967D2;\n",
              "      height: 32px;\n",
              "      padding: 0 0 0 0;\n",
              "      width: 32px;\n",
              "    }\n",
              "\n",
              "    .colab-df-convert:hover {\n",
              "      background-color: #E2EBFA;\n",
              "      box-shadow: 0px 1px 2px rgba(60, 64, 67, 0.3), 0px 1px 3px 1px rgba(60, 64, 67, 0.15);\n",
              "      fill: #174EA6;\n",
              "    }\n",
              "\n",
              "    [theme=dark] .colab-df-convert {\n",
              "      background-color: #3B4455;\n",
              "      fill: #D2E3FC;\n",
              "    }\n",
              "\n",
              "    [theme=dark] .colab-df-convert:hover {\n",
              "      background-color: #434B5C;\n",
              "      box-shadow: 0px 1px 3px 1px rgba(0, 0, 0, 0.15);\n",
              "      filter: drop-shadow(0px 1px 2px rgba(0, 0, 0, 0.3));\n",
              "      fill: #FFFFFF;\n",
              "    }\n",
              "  </style>\n",
              "\n",
              "      <script>\n",
              "        const buttonEl =\n",
              "          document.querySelector('#df-d37d1ea8-1807-4690-9c32-42012427c7f6 button.colab-df-convert');\n",
              "        buttonEl.style.display =\n",
              "          google.colab.kernel.accessAllowed ? 'block' : 'none';\n",
              "\n",
              "        async function convertToInteractive(key) {\n",
              "          const element = document.querySelector('#df-d37d1ea8-1807-4690-9c32-42012427c7f6');\n",
              "          const dataTable =\n",
              "            await google.colab.kernel.invokeFunction('convertToInteractive',\n",
              "                                                     [key], {});\n",
              "          if (!dataTable) return;\n",
              "\n",
              "          const docLinkHtml = 'Like what you see? Visit the ' +\n",
              "            '<a target=\"_blank\" href=https://colab.research.google.com/notebooks/data_table.ipynb>data table notebook</a>'\n",
              "            + ' to learn more about interactive tables.';\n",
              "          element.innerHTML = '';\n",
              "          dataTable['output_type'] = 'display_data';\n",
              "          await google.colab.output.renderOutput(dataTable, element);\n",
              "          const docLink = document.createElement('div');\n",
              "          docLink.innerHTML = docLinkHtml;\n",
              "          element.appendChild(docLink);\n",
              "        }\n",
              "      </script>\n",
              "    </div>\n",
              "  </div>\n",
              "  "
            ]
          },
          "metadata": {},
          "execution_count": 8
        }
      ]
    },
    {
      "cell_type": "code",
      "source": [
        "print('df shape:', df.shape)"
      ],
      "metadata": {
        "colab": {
          "base_uri": "https://localhost:8080/"
        },
        "id": "BZbuYovNjLfI",
        "outputId": "51133f29-9656-4312-8c73-5e81b2b4e4e2"
      },
      "execution_count": 12,
      "outputs": [
        {
          "output_type": "stream",
          "name": "stdout",
          "text": [
            "df shape: (404290, 6)\n"
          ]
        }
      ]
    },
    {
      "cell_type": "code",
      "source": [
        "df.info()"
      ],
      "metadata": {
        "colab": {
          "base_uri": "https://localhost:8080/"
        },
        "id": "rW37djO5jkl-",
        "outputId": "94591fc4-65e4-4625-91e5-aeabfd11b89e"
      },
      "execution_count": 13,
      "outputs": [
        {
          "output_type": "stream",
          "name": "stdout",
          "text": [
            "<class 'pandas.core.frame.DataFrame'>\n",
            "RangeIndex: 404290 entries, 0 to 404289\n",
            "Data columns (total 6 columns):\n",
            " #   Column        Non-Null Count   Dtype \n",
            "---  ------        --------------   ----- \n",
            " 0   id            404290 non-null  int64 \n",
            " 1   qid1          404290 non-null  int64 \n",
            " 2   qid2          404290 non-null  int64 \n",
            " 3   question1     404289 non-null  object\n",
            " 4   question2     404288 non-null  object\n",
            " 5   is_duplicate  404290 non-null  int64 \n",
            "dtypes: int64(4), object(2)\n",
            "memory usage: 18.5+ MB\n"
          ]
        }
      ]
    },
    {
      "cell_type": "code",
      "source": [
        "df.isna().sum()"
      ],
      "metadata": {
        "colab": {
          "base_uri": "https://localhost:8080/"
        },
        "id": "vPxr-hWKjnq_",
        "outputId": "e1d0f3b1-bd48-4c77-9182-760ca8d79b4b"
      },
      "execution_count": 16,
      "outputs": [
        {
          "output_type": "execute_result",
          "data": {
            "text/plain": [
              "id              0\n",
              "qid1            0\n",
              "qid2            0\n",
              "question1       1\n",
              "question2       2\n",
              "is_duplicate    0\n",
              "dtype: int64"
            ]
          },
          "metadata": {},
          "execution_count": 16
        }
      ]
    },
    {
      "cell_type": "code",
      "source": [
        "df.dropna(inplace=True)"
      ],
      "metadata": {
        "id": "XH3grhTqjvDm"
      },
      "execution_count": 14,
      "outputs": []
    },
    {
      "cell_type": "code",
      "source": [
        "duplicate=df[df['is_duplicate']==1]\n",
        "not_duplicate=df[df['is_duplicate']==0]"
      ],
      "metadata": {
        "id": "B1KjXqfvjyu3"
      },
      "execution_count": 15,
      "outputs": []
    },
    {
      "cell_type": "code",
      "source": [
        "y = np.array([duplicate.shape[0],not_duplicate.shape[0]])\n",
        "mylabels = ['duplicate','not_duplicate']\n",
        "plt.pie(y,labels=mylabels,autopct='%1.1f%%')\n",
        "plt.show()"
      ],
      "metadata": {
        "colab": {
          "base_uri": "https://localhost:8080/",
          "height": 406
        },
        "id": "hIpVPLY9kRu8",
        "outputId": "d8a18539-de1c-4552-87a1-930ee1251107"
      },
      "execution_count": 16,
      "outputs": [
        {
          "output_type": "display_data",
          "data": {
            "text/plain": [
              "<Figure size 640x480 with 1 Axes>"
            ],
            "image/png": "[encoded data removed]"
          },
          "metadata": {}
        }
      ]
    },
    {
      "cell_type": "markdown",
      "source": [
        "## Data Preprocessing"
      ],
      "metadata": {
        "id": "uc3lB_su_f1K"
      }
    },
    {
      "cell_type": "code",
      "source": [
        "#lower casing\n",
        "def lower_casing(text):\n",
        "  text=text.lower()\n",
        "  return text"
      ],
      "metadata": {
        "id": "qFXPwdnrlCOF"
      },
      "execution_count": 17,
      "outputs": []
    },
    {
      "cell_type": "code",
      "source": [
        "df['new_ques1']=df['question1'].apply(lower_casing)\n",
        "df['new_ques2']=df['question2'].apply(lower_casing)"
      ],
      "metadata": {
        "id": "OKjL1WF3l2ZQ"
      },
      "execution_count": 18,
      "outputs": []
    },
    {
      "cell_type": "markdown",
      "source": [
        "**Replacing Symbols and Short Forms**"
      ],
      "metadata": {
        "id": "e1gb5tD5_pO_"
      }
    },
    {
      "cell_type": "code",
      "source": [
        "def replacements(text):\n",
        "\n",
        "    text=text.replace('=', ' is equal to ')\n",
        "    text=text.replace('%', ' percent ')\n",
        "    text = text.replace('$', ' dollar ')\n",
        "    text = text.replace('₹', ' rupee ')\n",
        "    text = text.replace('€', ' euro ')\n",
        "    text = text.replace('@', ' at ')\n",
        "    text = text.replace('+', ' plus ')\n",
        "    text = text.replace('/', ' or ')\n",
        "    text = text.replace('-', ' ')\n",
        "    text = text.replace('[math]', '')\n",
        "\n",
        "    #replacement dict\n",
        "    replacements_dict = {\n",
        "        \"ain't\": \"am not\",\n",
        "        \"aren't\": \"are not\",\n",
        "        \"can't\": \"can not\",\n",
        "        \"can't've\": \"can not have\",\n",
        "        \"'cause\": \"because\",\n",
        "        \"could've\": \"could have\",\n",
        "        \"couldn't\": \"could not\",\n",
        "        \"couldn't've\": \"could not have\",\n",
        "        \"didn't\": \"did not\",\n",
        "        \"doesn't\": \"does not\",\n",
        "        \"don't\": \"do not\",\n",
        "        \"hadn't\": \"had not\",\n",
        "        \"hadn't've\": \"had not have\",\n",
        "        \"hasn't\": \"has not\",\n",
        "        \"haven't\": \"have not\",\n",
        "        \"he'd\": \"he would\",\n",
        "        \"he'd've\": \"he would have\",\n",
        "        \"he'll\": \"he will\",\n",
        "        \"he'll've\": \"he will have\",\n",
        "        \"he's\": \"he is\",\n",
        "        \"how'd\": \"how did\",\n",
        "        \"how'd'y\": \"how do you\",\n",
        "        \"how'll\": \"how will\",\n",
        "        \"how's\": \"how is\",\n",
        "        \"I'd\": \"I would\",\n",
        "        \"I'd've\": \"I would have\",\n",
        "        \"I'll\": \"I will\",\n",
        "        \"I'll've\": \"I will have\",\n",
        "        \"I'm\": \"I am\",\n",
        "        \"I've\": \"I have\",\n",
        "        \"isn't\": \"is not\",\n",
        "        \"it'd\": \"it would\",\n",
        "        \"it'd've\": \"it would have\",\n",
        "        \"it'll\": \"it will\",\n",
        "        \"it'll've\": \"it will have\",\n",
        "        \"it's\": \"it is\",\n",
        "        \"let's\": \"let us\",\n",
        "        \"ma'am\": \"madam\",\n",
        "        \"mayn't\": \"may not\",\n",
        "        \"might've\": \"might have\",\n",
        "        \"mightn't\": \"might not\",\n",
        "        \"mightn't've\": \"might not have\",\n",
        "        \"must've\": \"must have\",\n",
        "        \"mustn't\": \"must not\",\n",
        "        \"mustn't've\": \"must not have\",\n",
        "        \"needn't\": \"need not\",\n",
        "        \"needn't've\": \"need not have\",\n",
        "        \"o'clock\": \"of the clock\",\n",
        "        \"oughtn't\": \"ought not\",\n",
        "        \"oughtn't've\": \"ought not have\",\n",
        "        \"shan't\": \"shall not\",\n",
        "        \"sha'n't\": \"shall not\",\n",
        "        \"shan't've\": \"shall not have\",\n",
        "        \"she'd\": \"she would\",\n",
        "        \"she'd've\": \"she would have\",\n",
        "        \"she'll\": \"she will\",\n",
        "        \"she'll've\": \"she will have\",\n",
        "        \"she's\": \"she is\",\n",
        "        \"should've\": \"should have\",\n",
        "        \"shouldn't\": \"should not\",\n",
        "        \"shouldn't've\": \"should not have\",\n",
        "        \"so've\": \"so have\",\n",
        "        \"so's\": \"so is\",\n",
        "        \"that'd\": \"that would\",\n",
        "        \"that'd've\": \"that would have\",\n",
        "        \"that's\": \"that is\",\n",
        "        \"there'd\": \"there would\",\n",
        "        \"there'd've\": \"there would have\",\n",
        "        \"there's\": \"there is\",\n",
        "        \"they'd\": \"they would\",\n",
        "        \"they'd've\": \"they would have\",\n",
        "        \"they'll\": \"they will\",\n",
        "        \"they'll've\": \"they will have\",\n",
        "        \"they're\": \"they are\",\n",
        "        \"they've\": \"they have\",\n",
        "        \"to've\": \"to have\",\n",
        "         \"we'd\": \"we would\",\n",
        "        \"we'd've\": \"we would have\",\n",
        "        \"we'll\": \"we will\",\n",
        "        \"we'll've\": \"we will have\",\n",
        "        \"we're\": \"we are\",\n",
        "        \"we've\": \"we have\",\n",
        "        \"weren't\": \"were not\",\n",
        "        \"what'll\": \"what will\",\n",
        "        \"what'll've\": \"what will have\",\n",
        "        \"what're\": \"what are\",\n",
        "        \"what's\": \"what is\",\n",
        "        \"what've\": \"what have\",\n",
        "        \"when's\": \"when is\",\n",
        "        \"when've\": \"when have\",\n",
        "        \"where'd\": \"where did\",\n",
        "        \"where's\": \"where is\",\n",
        "        \"where've\": \"where have\",\n",
        "        \"who'll\": \"who will\",\n",
        "        \"who'll've\": \"who will have\",\n",
        "        \"who's\": \"who is\",\n",
        "        \"who've\": \"who have\",\n",
        "        \"why's\": \"why is\",\n",
        "        \"why've\": \"why have\",\n",
        "        \"will've\": \"will have\",\n",
        "        \"won't\": \"will not\",\n",
        "        \"won't've\": \"will not have\",\n",
        "        \"would've\": \"would have\",\n",
        "        \"wouldn't\": \"would not\",\n",
        "        \"wouldn't've\": \"would not have\",\n",
        "        \"y'all\": \"you all\",\n",
        "        \"y'all'd\": \"you all would\",\n",
        "        \"y'all'd've\": \"you all would have\",\n",
        "        \"y'all're\": \"you all are\",\n",
        "        \"y'all've\": \"you all have\",\n",
        "        \"you'd\": \"you would\",\n",
        "        \"you'd've\": \"you would have\",\n",
        "        \"you'll\": \"you will\",\n",
        "        \"you'll've\": \"you will have\",\n",
        "        \"you're\": \"you are\",\n",
        "        \"you've\": \"you have\",\n",
        "    }\n",
        "\n",
        "    # Apply replacements\n",
        "    pattern = re.compile(r'\\b(' + '|'.join(replacements_dict.keys()) + r')\\b')\n",
        "    text = pattern.sub(lambda x: replacements_dict[x.group()], text)\n",
        "\n",
        "    # Remove punctuation\n",
        "    text = text.translate(str.maketrans(\"\", \"\", string.punctuation))\n",
        "\n",
        "    return text"
      ],
      "metadata": {
        "id": "pPRrIIF5l9d5"
      },
      "execution_count": 20,
      "outputs": []
    },
    {
      "cell_type": "code",
      "source": [
        "df['new_ques1']=df['new_ques1'].apply(replacements)\n",
        "df['new_ques2']=df['new_ques2'].apply(replacements)"
      ],
      "metadata": {
        "id": "MqNAbaUhnMYF"
      },
      "execution_count": 21,
      "outputs": []
    },
    {
      "cell_type": "markdown",
      "source": [
        "**Converting numbers to words**"
      ],
      "metadata": {
        "id": "smBTYCME_5iX"
      }
    },
    {
      "cell_type": "code",
      "source": [
        "#converting numbers to words\n",
        "def num_to_words(text):\n",
        "  #converting numbers to words\n",
        "  words = text.split()\n",
        "  converted_text = []\n",
        "  for word in words:\n",
        "      if re.match(r'^-?\\d+\\.?\\d*$', word):  # Check if the word is a numeric value\n",
        "          try:\n",
        "              converted_word = num2words(float(word))\n",
        "              converted_text.append(converted_word)\n",
        "          except ValueError:\n",
        "              converted_text.append(word)  # If conversion fails, keep the original word\n",
        "      else:\n",
        "          converted_text.append(word)\n",
        "\n",
        "  text=' '.join(converted_text)\n",
        "\n",
        "  return text"
      ],
      "metadata": {
        "id": "I9Yvh2RLnPeV"
      },
      "execution_count": 22,
      "outputs": []
    },
    {
      "cell_type": "code",
      "source": [
        "df['new_ques1']=df['new_ques1'].apply(num_to_words)\n",
        "df['new_ques2']=df['new_ques2'].apply(num_to_words)"
      ],
      "metadata": {
        "id": "rjPHCdy9n3Al"
      },
      "execution_count": 23,
      "outputs": []
    },
    {
      "cell_type": "markdown",
      "source": [
        "**Stemming**\n",
        "\n",
        "Snowball Stemming, preferred over PorterStemmer and other stemming algorithms, offers several advantages. Firstly, it supports a wide range of languages, making it suitable for multilingual datasets. Secondly, it generates more accurate stems, addressing the limitations of PorterStemmer and providing better results for word forms and variations. Additionally, Snowball Stemming allows for fine-grained control over stemming rules, making it customizable and adaptable to specific requirements."
      ],
      "metadata": {
        "id": "MoPGXPPAADH7"
      }
    },
    {
      "cell_type": "code",
      "source": [
        "stemmer = SnowballStemmer('english')\n",
        "\n",
        "def stem_words(text):\n",
        "    return ' '.join([stemmer.stem(word) for word in text.split()])"
      ],
      "metadata": {
        "id": "XfqRh80Bn8fF"
      },
      "execution_count": 24,
      "outputs": []
    },
    {
      "cell_type": "code",
      "source": [
        "df['new_ques1'] = df['new_ques1'].apply(stem_words)"
      ],
      "metadata": {
        "id": "-sdNH9K0pR3P"
      },
      "execution_count": 25,
      "outputs": []
    },
    {
      "cell_type": "code",
      "source": [
        "df['new_ques2'] = df['new_ques2'].apply(stem_words)"
      ],
      "metadata": {
        "id": "26XQ5sZXptG0"
      },
      "execution_count": 26,
      "outputs": []
    },
    {
      "cell_type": "markdown",
      "source": [
        "**Removing Stopwords**"
      ],
      "metadata": {
        "id": "1mrCDyn5Aa1t"
      }
    },
    {
      "cell_type": "code",
      "source": [
        "stop_words=stopwords.words('english')\n",
        "\n",
        "def remove_stopwords(text):\n",
        "\n",
        "    new_text=[]\n",
        "    for word in text.split():\n",
        "        if word not in stop_words:\n",
        "            new_text.append(word)\n",
        "\n",
        "    return ' '.join(new_text)"
      ],
      "metadata": {
        "id": "u3rNznB0uXmM"
      },
      "execution_count": 27,
      "outputs": []
    },
    {
      "cell_type": "code",
      "source": [
        "pbar = tqdm(total=len(df), desc='Removing Stopwords:')\n",
        "df['new_ques1'] = df['new_ques1'].apply(lambda x: (pbar.update(1), remove_stopwords(x))[1])\n",
        "df['new_ques2'] = df['new_ques2'].apply(lambda x: (pbar.update(1), remove_stopwords(x))[1])\n",
        "pbar.close()"
      ],
      "metadata": {
        "colab": {
          "base_uri": "https://localhost:8080/"
        },
        "id": "7thBSH1zu95R",
        "outputId": "ef213809-a40c-4618-9e2a-e0a7df1d4ff2"
      },
      "execution_count": 28,
      "outputs": [
        {
          "output_type": "stream",
          "name": "stderr",
          "text": [
            "Removing Stopwords:: 808574it [00:20, 40126.59it/s]\n"
          ]
        }
      ]
    },
    {
      "cell_type": "code",
      "source": [
        "example=np.random.randint(len(df))\n",
        "print(df['question1'][example])\n",
        "print(df['new_ques1'][example])"
      ],
      "metadata": {
        "colab": {
          "base_uri": "https://localhost:8080/"
        },
        "id": "1MLh17LAvM2X",
        "outputId": "78b3e7ed-ac7d-4349-a681-50e0b2efc499"
      },
      "execution_count": 29,
      "outputs": [
        {
          "output_type": "stream",
          "name": "stdout",
          "text": [
            "What are some pentagon-shaped objects?\n",
            "pentagon shape object\n"
          ]
        }
      ]
    },
    {
      "cell_type": "markdown",
      "source": [
        "**Vector Representation**"
      ],
      "metadata": {
        "id": "nNlWIw97A1mk"
      }
    },
    {
      "cell_type": "code",
      "source": [
        "operational_df=df[['new_ques1', 'new_ques2', 'is_duplicate']]"
      ],
      "metadata": {
        "id": "i9BfuNsDwRYV"
      },
      "execution_count": 30,
      "outputs": []
    },
    {
      "cell_type": "code",
      "source": [
        "#training and testing sets\n",
        "train_df, test_df = train_test_split(operational_df, test_size=0.2, random_state=seed)"
      ],
      "metadata": {
        "id": "fQRPnLG6waYN"
      },
      "execution_count": 31,
      "outputs": []
    },
    {
      "cell_type": "code",
      "source": [
        "# Tokenizing the text data\n",
        "tokenizer = Tokenizer()\n",
        "tokenizer.fit_on_texts(train_df['new_ques1'].values + train_df['new_ques2'].values)\n",
        "vocab=tokenizer.word_index"
      ],
      "metadata": {
        "id": "YBJqi0k6wyKF"
      },
      "execution_count": 32,
      "outputs": []
    },
    {
      "cell_type": "code",
      "source": [
        "#preparing sequenced data\n",
        "train_sequences_1 = tokenizer.texts_to_sequences(train_df['new_ques1'].values)\n",
        "train_sequences_2 = tokenizer.texts_to_sequences(train_df['new_ques2'].values)\n",
        "test_sequences_1 = tokenizer.texts_to_sequences(test_df['new_ques1'].values)\n",
        "test_sequences_2 = tokenizer.texts_to_sequences(test_df['new_ques2'].values)"
      ],
      "metadata": {
        "id": "UcpiKOTKw55H"
      },
      "execution_count": 34,
      "outputs": []
    },
    {
      "cell_type": "code",
      "source": [
        "def get_maxlen(data):\n",
        "    maxlen = 0\n",
        "    for sent in data:\n",
        "        maxlen = max(maxlen, len(sent))\n",
        "    return maxlen\n",
        "\n",
        "sequences=[train_sequences_1, train_sequences_2, test_sequences_1, test_sequences_2]\n",
        "\n",
        "max_lengths=[]\n",
        "\n",
        "for sequence in sequences:\n",
        "    maxlen = get_maxlen(sequence)\n",
        "    max_lengths.append(maxlen)\n",
        "\n",
        "print('Maximum lenght of sentence is:', maxlen)"
      ],
      "metadata": {
        "colab": {
          "base_uri": "https://localhost:8080/"
        },
        "id": "eNc6NKyvyeu_",
        "outputId": "af81d406-1f8d-4da2-d5bb-9c5fcac23aa8"
      },
      "execution_count": 35,
      "outputs": [
        {
          "output_type": "stream",
          "name": "stdout",
          "text": [
            "Maximum lenght of sentence is: 106\n"
          ]
        }
      ]
    },
    {
      "cell_type": "markdown",
      "source": [
        "we will limit max-lenght to 30. We would not mind missing out on a piece of words from sentences. If we do not limit this maxlen and keep maxlen equal to 106, we would unncessarity create a lot of sparsity in the data"
      ],
      "metadata": {
        "id": "yjHGAGAyBK50"
      }
    },
    {
      "cell_type": "code",
      "source": [
        "maxlen= 30"
      ],
      "metadata": {
        "id": "LoggkbtryrO3"
      },
      "execution_count": 36,
      "outputs": []
    },
    {
      "cell_type": "code",
      "source": [
        "train_sequences_1[2:5]"
      ],
      "metadata": {
        "colab": {
          "base_uri": "https://localhost:8080/"
        },
        "id": "f9djWbtzzVI1",
        "outputId": "3f23cc7d-b892-468e-e4fd-1ab44724496b"
      },
      "execution_count": 37,
      "outputs": [
        {
          "output_type": "execute_result",
          "data": {
            "text/plain": [
              "[[3, 97, 76, 1044], [2827, 143], [18, 218, 1616]]"
            ]
          },
          "metadata": {},
          "execution_count": 37
        }
      ]
    },
    {
      "cell_type": "code",
      "source": [
        "# Pad sequences to a fixed length\n",
        "train_data_1 = pad_sequences(train_sequences_1, maxlen=maxlen,  padding='post')\n",
        "train_data_2 = pad_sequences(train_sequences_2, maxlen=maxlen,  padding='post')\n",
        "test_data_1 = pad_sequences(test_sequences_1, maxlen=maxlen,  padding='post')\n",
        "test_data_2 = pad_sequences(test_sequences_2, maxlen=maxlen,  padding='post')"
      ],
      "metadata": {
        "id": "YLmFuOvZyyL_"
      },
      "execution_count": 38,
      "outputs": []
    },
    {
      "cell_type": "code",
      "source": [
        "train_data_1[2:5]"
      ],
      "metadata": {
        "colab": {
          "base_uri": "https://localhost:8080/"
        },
        "id": "61tw0cvGy6kf",
        "outputId": "cc8b971d-3241-4d83-9c52-5019f7dc2ae2"
      },
      "execution_count": 39,
      "outputs": [
        {
          "output_type": "execute_result",
          "data": {
            "text/plain": [
              "array([[   3,   97,   76, 1044,    0,    0,    0,    0,    0,    0,    0,\n",
              "           0,    0,    0,    0,    0,    0,    0,    0,    0,    0,    0,\n",
              "           0,    0,    0,    0,    0,    0,    0,    0],\n",
              "       [2827,  143,    0,    0,    0,    0,    0,    0,    0,    0,    0,\n",
              "           0,    0,    0,    0,    0,    0,    0,    0,    0,    0,    0,\n",
              "           0,    0,    0,    0,    0,    0,    0,    0],\n",
              "       [  18,  218, 1616,    0,    0,    0,    0,    0,    0,    0,    0,\n",
              "           0,    0,    0,    0,    0,    0,    0,    0,    0,    0,    0,\n",
              "           0,    0,    0,    0,    0,    0,    0,    0]], dtype=int32)"
            ]
          },
          "metadata": {},
          "execution_count": 39
        }
      ]
    },
    {
      "cell_type": "code",
      "source": [
        "# Prepare the target labels\n",
        "train_labels = train_df['is_duplicate'].values\n",
        "test_labels = test_df['is_duplicate'].values"
      ],
      "metadata": {
        "id": "7K2YuG4TznZK"
      },
      "execution_count": 40,
      "outputs": []
    },
    {
      "cell_type": "code",
      "source": [
        "train_labels"
      ],
      "metadata": {
        "colab": {
          "base_uri": "https://localhost:8080/"
        },
        "id": "SXO6aB5Q0uGL",
        "outputId": "41161706-3989-4c32-f87d-d3e8d0a1abc0"
      },
      "execution_count": 41,
      "outputs": [
        {
          "output_type": "execute_result",
          "data": {
            "text/plain": [
              "array([0, 1, 0, ..., 1, 0, 0])"
            ]
          },
          "metadata": {},
          "execution_count": 41
        }
      ]
    },
    {
      "cell_type": "markdown",
      "source": [
        "Reshaping the labels using np.expand_dims() adds an extra dimension to the labels array, transforming it from a 1D shape to a 2D shape. This ensures that the labels have the same shape as the model's output, allowing them to be properly compared during training and evaluation."
      ],
      "metadata": {
        "id": "aCVSyhIMBbSt"
      }
    },
    {
      "cell_type": "code",
      "source": [
        "# Reshape the labels to match the model's output shape\n",
        "train_labels_reshaped = np.expand_dims(train_labels, axis=-1)\n",
        "test_labels_reshaped = np.expand_dims(test_labels, axis=-1)"
      ],
      "metadata": {
        "id": "07xG6gQj0TmW"
      },
      "execution_count": 43,
      "outputs": []
    },
    {
      "cell_type": "code",
      "source": [
        "train_labels_reshaped"
      ],
      "metadata": {
        "colab": {
          "base_uri": "https://localhost:8080/"
        },
        "id": "jY5ti_IL0Z2d",
        "outputId": "c27235cb-42fb-40f3-b02c-6bbd5eaa7c2b"
      },
      "execution_count": 44,
      "outputs": [
        {
          "output_type": "execute_result",
          "data": {
            "text/plain": [
              "array([[0],\n",
              "       [1],\n",
              "       [0],\n",
              "       ...,\n",
              "       [1],\n",
              "       [0],\n",
              "       [0]])"
            ]
          },
          "metadata": {},
          "execution_count": 44
        }
      ]
    },
    {
      "cell_type": "markdown",
      "source": [
        "To address to issue of class imbalance, we use class weights during training. Class weights assign different weights to each class, giving more importance to the minority class and less importance to the majority class. This helps in balancing the influence of different classes and mitigating the impact of class imbalance.\n",
        "\n",
        "In our specific case, the dataset has an imbalance with class 0 having 255,024 samples and class 1 having 149,263 samples. By applying class weights, we aim to give more weight to class 1 during training, allowing the model to focus on learning its patterns effectively."
      ],
      "metadata": {
        "id": "YeFbAxxGBlq-"
      }
    },
    {
      "cell_type": "code",
      "source": [
        "#class weights\n",
        "total_samples = len(train_labels)\n",
        "class_0_count = np.sum(train_labels == 0)\n",
        "class_1_count = np.sum(train_labels == 1)\n",
        "\n",
        "weight_0 = total_samples / (2 * class_0_count)\n",
        "weight_1 = total_samples / (2 * class_1_count)\n",
        "\n",
        "class_weight = {0: weight_0, 1: weight_1}\n",
        "class_weight"
      ],
      "metadata": {
        "colab": {
          "base_uri": "https://localhost:8080/"
        },
        "id": "V3hUHDta08qO",
        "outputId": "db9cfcb7-ec04-4397-af71-6c16f74eefc0"
      },
      "execution_count": 45,
      "outputs": [
        {
          "output_type": "execute_result",
          "data": {
            "text/plain": [
              "{0: 0.7927259090775399, 1: 1.3540412455727575}"
            ]
          },
          "metadata": {},
          "execution_count": 45
        }
      ]
    },
    {
      "cell_type": "code",
      "source": [
        "!wget http://nlp.stanford.edu/data/glove.6B.zip\n",
        "!unzip glove*.zip"
      ],
      "metadata": {
        "colab": {
          "base_uri": "https://localhost:8080/"
        },
        "id": "4tY8LIe04KC5",
        "outputId": "87342fb0-db1d-4087-c7ab-b06098747017"
      },
      "execution_count": 71,
      "outputs": [
        {
          "output_type": "stream",
          "name": "stdout",
          "text": [
            "--2023-06-24 05:29:33--  http://nlp.stanford.edu/data/glove.6B.zip\n",
            "Resolving nlp.stanford.edu (nlp.stanford.edu)... 171.64.67.140\n",
            "Connecting to nlp.stanford.edu (nlp.stanford.edu)|171.64.67.140|:80... connected.\n",
            "HTTP request sent, awaiting response... 302 Found\n",
            "Location: https://nlp.stanford.edu/data/glove.6B.zip [following]\n",
            "--2023-06-24 05:29:33--  https://nlp.stanford.edu/data/glove.6B.zip\n",
            "Connecting to nlp.stanford.edu (nlp.stanford.edu)|171.64.67.140|:443... connected.\n",
            "HTTP request sent, awaiting response... 301 Moved Permanently\n",
            "Location: https://downloads.cs.stanford.edu/nlp/data/glove.6B.zip [following]\n",
            "--2023-06-24 05:29:33--  https://downloads.cs.stanford.edu/nlp/data/glove.6B.zip\n",
            "Resolving downloads.cs.stanford.edu (downloads.cs.stanford.edu)... 171.64.64.22\n",
            "Connecting to downloads.cs.stanford.edu (downloads.cs.stanford.edu)|171.64.64.22|:443... connected.\n",
            "HTTP request sent, awaiting response... 200 OK\n",
            "Length: 862182613 (822M) [application/zip]\n",
            "Saving to: ‘glove.6B.zip’\n",
            "\n",
            "glove.6B.zip        100%[===================>] 822.24M  5.01MB/s    in 2m 39s  \n",
            "\n",
            "2023-06-24 05:32:13 (5.16 MB/s) - ‘glove.6B.zip’ saved [862182613/862182613]\n",
            "\n",
            "Archive:  glove.6B.zip\n",
            "  inflating: glove.6B.50d.txt        \n",
            "  inflating: glove.6B.100d.txt       \n",
            "  inflating: glove.6B.200d.txt       \n",
            "  inflating: glove.6B.300d.txt       \n"
          ]
        }
      ]
    },
    {
      "cell_type": "markdown",
      "source": [
        "**GloVE Embedding**\n",
        "\n",
        "GloVe, short for Global Vectors for Word Representation, is an unsupervised learning algorithm used to obtain dense vector representations (embeddings) for words in a corpus. It is designed to capture the semantic and syntactic meaning of words based on their co-occurrence statistics within the corpus.\n",
        "\n",
        "In our project, we utilize GloVe embeddings to initialize the embedding layer of our neural network model. By using pre-trained GloVe embeddings, we can benefit from the semantic information captured in these vectors and provide a useful initialization for the word embeddings in our specific task of question similarity classification."
      ],
      "metadata": {
        "id": "SW1rJvl3B2FM"
      }
    },
    {
      "cell_type": "code",
      "source": [
        "file=open('glove.6B.50d.txt','r', encoding='utf8')\n",
        "content=file.readlines()\n",
        "file.close()"
      ],
      "metadata": {
        "id": "b33ve_SY4SPp"
      },
      "execution_count": 46,
      "outputs": []
    },
    {
      "cell_type": "code",
      "source": [
        "#creating word-vector dictionary\n",
        "embeddings={}\n",
        "\n",
        "for line in content:\n",
        "    line = line.split()\n",
        "    embeddings[line[0]] = np.array(line[1:], dtype = float)"
      ],
      "metadata": {
        "id": "e9D2-R1y8jBz"
      },
      "execution_count": 47,
      "outputs": []
    },
    {
      "cell_type": "code",
      "source": [
        "def filter_glove(vocab_dict, glove_dict, wordvec_dim=50):\n",
        "    '''filter out only words from GloVe dictionary which are present in our corpus'''\n",
        "    embedding_matrix = np.zeros((len(vocab_dict)+1, wordvec_dim))\n",
        "\n",
        "    for word, i in vocab_dict.items():\n",
        "        embedding_vector = glove_dict.get(word)\n",
        "\n",
        "        if embedding_vector is not None:\n",
        "        # if the words not found in the glove_dict will be all-zeros.\n",
        "            embedding_matrix[i] = embedding_vector\n",
        "\n",
        "    return embedding_matrix\n",
        "\n",
        "embedding_matrix= filter_glove(vocab, embeddings)"
      ],
      "metadata": {
        "id": "KIfbOBWB8oP9"
      },
      "execution_count": 48,
      "outputs": []
    },
    {
      "cell_type": "markdown",
      "source": [
        "## Neural Architecture"
      ],
      "metadata": {
        "id": "KRm-FZPvCKSX"
      }
    },
    {
      "cell_type": "code",
      "source": [
        "#variables\n",
        "vocab_size = len(tokenizer.word_index) + 1\n",
        "input_shape = (maxlen,)"
      ],
      "metadata": {
        "id": "HKdLgl698vIB"
      },
      "execution_count": 49,
      "outputs": []
    },
    {
      "cell_type": "code",
      "source": [
        "# Defining the shared embedding layer\n",
        "embedding_layer = Embedding(input_dim=vocab_size, output_dim=50,\n",
        "                            weights=[embedding_matrix], input_length=maxlen,\n",
        "                            trainable=True)  # Fine-tune embeddings\n",
        "\n",
        "# Defining the input layers for question 1 and question 2\n",
        "question1_input = Input(shape=input_shape, name='question1_input')\n",
        "question2_input = Input(shape=input_shape, name='question2_input')\n",
        "\n",
        "# Applying the embedding layer to both inputs\n",
        "embedded_question1 = embedding_layer(question1_input)\n",
        "embedded_question2 = embedding_layer(question2_input)\n",
        "\n",
        "# Define the Bidirectional LSTM layers\n",
        "lstm_layer1 = Bidirectional(LSTM(units=32, return_sequences=True))\n",
        "lstm_layer2 = Bidirectional(LSTM(units=16, return_sequences=True))\n",
        "\n",
        "# Apply the LSTM layers to both embedded questions\n",
        "lstm_question1 = lstm_layer1(embedded_question1)\n",
        "lstm_question2 = lstm_layer1(embedded_question2)\n",
        "\n",
        "# Apply dropout after the first LSTM layer\n",
        "dropout1 = Dropout(0.2)(lstm_question1)\n",
        "dropout2 = Dropout(0.2)(lstm_question2)\n",
        "\n",
        "# Apply batch normalization after each LSTM layer\n",
        "bn1 = BatchNormalization()(dropout1)\n",
        "bn2 = BatchNormalization()(dropout2)\n",
        "\n",
        "# Apply the second LSTM layer\n",
        "lstm_question1 = lstm_layer2(bn1)\n",
        "lstm_question2 = lstm_layer2(bn2)\n",
        "\n",
        "# Apply attention mechanism\n",
        "attention1 = Attention()([lstm_question1, lstm_question2])\n",
        "attention2 = Attention()([lstm_question2, lstm_question1])\n",
        "\n",
        "# Concatenate the outputs of the attention layers\n",
        "merged_output = concatenate([attention1, attention2])\n",
        "\n",
        "# Flatten the merged output\n",
        "flatten_output = Flatten()(merged_output)\n",
        "\n",
        "# Add the output layer\n",
        "output = Dense(1, activation='sigmoid', kernel_regularizer=l2(0.01))(flatten_output)\n",
        "\n",
        "# Creating the Siamese model\n",
        "model = Model(inputs=[question1_input, question2_input], outputs=output)\n",
        "\n",
        "# Compile the model\n",
        "model.compile(optimizer='adam', loss='binary_crossentropy', metrics=['accuracy'])"
      ],
      "metadata": {
        "id": "e37An7E88yBO"
      },
      "execution_count": 50,
      "outputs": []
    },
    {
      "cell_type": "code",
      "source": [
        "model.summary()"
      ],
      "metadata": {
        "colab": {
          "base_uri": "https://localhost:8080/"
        },
        "id": "9IaZq_TfATPH",
        "outputId": "c872a54c-b1a5-40fa-dab1-be087e2e524c"
      },
      "execution_count": 51,
      "outputs": [
        {
          "output_type": "stream",
          "name": "stdout",
          "text": [
            "Model: \"model\"\n",
            "__________________________________________________________________________________________________\n",
            " Layer (type)                   Output Shape         Param #     Connected to                     \n",
            "==================================================================================================\n",
            " question1_input (InputLayer)   [(None, 30)]         0           []                               \n",
            "                                                                                                  \n",
            " question2_input (InputLayer)   [(None, 30)]         0           []                               \n",
            "                                                                                                  \n",
            " embedding (Embedding)          (None, 30, 50)       11333350    ['question1_input[0][0]',        \n",
            "                                                                  'question2_input[0][0]']        \n",
            "                                                                                                  \n",
            " bidirectional (Bidirectional)  (None, 30, 64)       21248       ['embedding[0][0]',              \n",
            "                                                                  'embedding[1][0]']              \n",
            "                                                                                                  \n",
            " dropout (Dropout)              (None, 30, 64)       0           ['bidirectional[0][0]']          \n",
            "                                                                                                  \n",
            " dropout_1 (Dropout)            (None, 30, 64)       0           ['bidirectional[1][0]']          \n",
            "                                                                                                  \n",
            " batch_normalization (BatchNorm  (None, 30, 64)      256         ['dropout[0][0]']                \n",
            " alization)                                                                                       \n",
            "                                                                                                  \n",
            " batch_normalization_1 (BatchNo  (None, 30, 64)      256         ['dropout_1[0][0]']              \n",
            " rmalization)                                                                                     \n",
            "                                                                                                  \n",
            " bidirectional_1 (Bidirectional  (None, 30, 32)      10368       ['batch_normalization[0][0]',    \n",
            " )                                                                'batch_normalization_1[0][0]']  \n",
            "                                                                                                  \n",
            " attention (Attention)          (None, 30, 32)       0           ['bidirectional_1[0][0]',        \n",
            "                                                                  'bidirectional_1[1][0]']        \n",
            "                                                                                                  \n",
            " attention_1 (Attention)        (None, 30, 32)       0           ['bidirectional_1[1][0]',        \n",
            "                                                                  'bidirectional_1[0][0]']        \n",
            "                                                                                                  \n",
            " concatenate (Concatenate)      (None, 30, 64)       0           ['attention[0][0]',              \n",
            "                                                                  'attention_1[0][0]']            \n",
            "                                                                                                  \n",
            " flatten (Flatten)              (None, 1920)         0           ['concatenate[0][0]']            \n",
            "                                                                                                  \n",
            " dense (Dense)                  (None, 1)            1921        ['flatten[0][0]']                \n",
            "                                                                                                  \n",
            "==================================================================================================\n",
            "Total params: 11,367,399\n",
            "Trainable params: 11,367,143\n",
            "Non-trainable params: 256\n",
            "__________________________________________________________________________________________________\n"
          ]
        }
      ]
    },
    {
      "cell_type": "code",
      "source": [
        "import matplotlib.pyplot as plt\n",
        "from tensorflow.keras.utils import plot_model\n",
        "\n",
        "# Generate the model architecture plot\n",
        "plot_model(model, to_file='model_architecture.png', show_shapes=True)\n",
        "\n",
        "# Load the image and add formatting\n",
        "image = plt.imread('model_architecture.png')\n",
        "fig, ax = plt.subplots(figsize=(10, 10))\n",
        "ax.imshow(image)\n",
        "\n",
        "# Add title and remove axes\n",
        "ax.set_title('Model Architecture', fontsize=20, fontweight='bold')\n",
        "ax.axis('off')\n",
        "\n",
        "# Save and display the plot\n",
        "plt.savefig('formatted_model_architecture.png', bbox_inches='tight', pad_inches=0);"
      ],
      "metadata": {
        "colab": {
          "base_uri": "https://localhost:8080/",
          "height": 793
        },
        "id": "CX1QUYFyAZJ0",
        "outputId": "76b5802f-f9e8-4642-df9a-7e7911947b3d"
      },
      "execution_count": 52,
      "outputs": [
        {
          "output_type": "display_data",
          "data": {
            "text/plain": [
              "<Figure size 1000x1000 with 1 Axes>"
            ],
            "image/png": "[encoded data removed]"
          },
          "metadata": {}
        }
      ]
    },
    {
      "cell_type": "code",
      "source": [
        "#model1\n",
        "stopper= EarlyStopping(patience=5, monitor='val_loss')\n",
        "checkpointer = ModelCheckpoint(filepath='model.weights.best.hdf5', verbose=3, save_best_only=True)\n",
        "\n",
        "history=model.fit(\n",
        "        [train_data_1, train_data_2], train_labels_reshaped,\n",
        "         batch_size=batch_size,\n",
        "         epochs=epochs,\n",
        "         validation_data=([test_data_1, test_data_2], test_labels_reshaped),\n",
        "         callbacks=[stopper, checkpointer],\n",
        "         class_weight=class_weight,\n",
        "         shuffle=True\n",
        "         )"
      ],
      "metadata": {
        "colab": {
          "base_uri": "https://localhost:8080/"
        },
        "id": "lWUDml09AsKm",
        "outputId": "b94d8c68-ea7e-43b6-e657-48f6668d4ee8"
      },
      "execution_count": 53,
      "outputs": [
        {
          "output_type": "stream",
          "name": "stdout",
          "text": [
            "Epoch 1/30\n",
            "158/158 [==============================] - ETA: 0s - loss: 0.5763 - accuracy: 0.6939\n",
            "Epoch 1: val_loss improved from inf to 0.59154, saving model to model.weights.best.hdf5\n",
            "158/158 [==============================] - 404s 2s/step - loss: 0.5763 - accuracy: 0.6939 - val_loss: 0.5915 - val_accuracy: 0.6865\n",
            "Epoch 2/30\n",
            "158/158 [==============================] - ETA: 0s - loss: 0.4826 - accuracy: 0.7635\n",
            "Epoch 2: val_loss improved from 0.59154 to 0.49722, saving model to model.weights.best.hdf5\n",
            "158/158 [==============================] - 382s 2s/step - loss: 0.4826 - accuracy: 0.7635 - val_loss: 0.4972 - val_accuracy: 0.7672\n",
            "Epoch 3/30\n",
            "158/158 [==============================] - ETA: 0s - loss: 0.4411 - accuracy: 0.7883\n",
            "Epoch 3: val_loss improved from 0.49722 to 0.45543, saving model to model.weights.best.hdf5\n",
            "158/158 [==============================] - 384s 2s/step - loss: 0.4411 - accuracy: 0.7883 - val_loss: 0.4554 - val_accuracy: 0.7809\n",
            "Epoch 4/30\n",
            "158/158 [==============================] - ETA: 0s - loss: 0.4124 - accuracy: 0.8040\n",
            "Epoch 4: val_loss did not improve from 0.45543\n",
            "158/158 [==============================] - 391s 2s/step - loss: 0.4124 - accuracy: 0.8040 - val_loss: 0.5706 - val_accuracy: 0.7126\n",
            "Epoch 5/30\n",
            "158/158 [==============================] - ETA: 0s - loss: 0.3872 - accuracy: 0.8186\n",
            "Epoch 5: val_loss improved from 0.45543 to 0.44032, saving model to model.weights.best.hdf5\n",
            "158/158 [==============================] - 391s 2s/step - loss: 0.3872 - accuracy: 0.8186 - val_loss: 0.4403 - val_accuracy: 0.7937\n",
            "Epoch 6/30\n",
            "158/158 [==============================] - ETA: 0s - loss: 0.3662 - accuracy: 0.8291\n",
            "Epoch 6: val_loss did not improve from 0.44032\n",
            "158/158 [==============================] - 392s 2s/step - loss: 0.3662 - accuracy: 0.8291 - val_loss: 0.4443 - val_accuracy: 0.7996\n",
            "Epoch 7/30\n",
            "158/158 [==============================] - ETA: 0s - loss: 0.3491 - accuracy: 0.8382\n",
            "Epoch 7: val_loss did not improve from 0.44032\n",
            "158/158 [==============================] - 371s 2s/step - loss: 0.3491 - accuracy: 0.8382 - val_loss: 0.4820 - val_accuracy: 0.7762\n",
            "Epoch 8/30\n",
            "158/158 [==============================] - ETA: 0s - loss: 0.3316 - accuracy: 0.8478\n",
            "Epoch 8: val_loss did not improve from 0.44032\n",
            "158/158 [==============================] - 382s 2s/step - loss: 0.3316 - accuracy: 0.8478 - val_loss: 0.4542 - val_accuracy: 0.7935\n",
            "Epoch 9/30\n",
            "158/158 [==============================] - ETA: 0s - loss: 0.3175 - accuracy: 0.8551\n",
            "Epoch 9: val_loss did not improve from 0.44032\n",
            "158/158 [==============================] - 384s 2s/step - loss: 0.3175 - accuracy: 0.8551 - val_loss: 0.5039 - val_accuracy: 0.7717\n",
            "Epoch 10/30\n",
            "158/158 [==============================] - ETA: 0s - loss: 0.3062 - accuracy: 0.8613\n",
            "Epoch 10: val_loss did not improve from 0.44032\n",
            "158/158 [==============================] - 384s 2s/step - loss: 0.3062 - accuracy: 0.8613 - val_loss: 0.4936 - val_accuracy: 0.7836\n"
          ]
        }
      ]
    },
    {
      "cell_type": "code",
      "source": [
        "plt.plot(history.history[\"loss\"],color = 'red', label = 'train_loss')\n",
        "plt.plot(history.history[\"val_loss\"],color = 'blue', label = 'val_loss')\n",
        "plt.title('Loss Visualisation')\n",
        "plt.xlabel('Epochs')\n",
        "plt.ylabel('Loss')\n",
        "plt.legend()\n",
        "plt.savefig('Loss_Visualisation.pdf',dpi=1000)\n",
        "\n",
        "from google.colab import files\n",
        "files.download('Loss_Visualisation.pdf')"
      ],
      "metadata": {
        "colab": {
          "base_uri": "https://localhost:8080/",
          "height": 472
        },
        "id": "_F4WF_tUzTl-",
        "outputId": "f3c10b33-9a05-435f-eac4-afe8ba9ad70e"
      },
      "execution_count": 55,
      "outputs": [
        {
          "output_type": "display_data",
          "data": {
            "text/plain": [
              "<IPython.core.display.Javascript object>"
            ],
            "application/javascript": [
              "\n",
              "    async function download(id, filename, size) {\n",
              "      if (!google.colab.kernel.accessAllowed) {\n",
              "        return;\n",
              "      }\n",
              "      const div = document.createElement('div');\n",
              "      const label = document.createElement('label');\n",
              "      label.textContent = `Downloading \"${filename}\": `;\n",
              "      div.appendChild(label);\n",
              "      const progress = document.createElement('progress');\n",
              "      progress.max = size;\n",
              "      div.appendChild(progress);\n",
              "      document.body.appendChild(div);\n",
              "\n",
              "      const buffers = [];\n",
              "      let downloaded = 0;\n",
              "\n",
              "      const channel = await google.colab.kernel.comms.open(id);\n",
              "      // Send a message to notify the kernel that we're ready.\n",
              "      channel.send({})\n",
              "\n",
              "      for await (const message of channel.messages) {\n",
              "        // Send a message to notify the kernel that we're ready.\n",
              "        channel.send({})\n",
              "        if (message.buffers) {\n",
              "          for (const buffer of message.buffers) {\n",
              "            buffers.push(buffer);\n",
              "            downloaded += buffer.byteLength;\n",
              "            progress.value = downloaded;\n",
              "          }\n",
              "        }\n",
              "      }\n",
              "      const blob = new Blob(buffers, {type: 'application/binary'});\n",
              "      const a = document.createElement('a');\n",
              "      a.href = window.URL.createObjectURL(blob);\n",
              "      a.download = filename;\n",
              "      div.appendChild(a);\n",
              "      a.click();\n",
              "      div.remove();\n",
              "    }\n",
              "  "
            ]
          },
          "metadata": {}
        },
        {
          "output_type": "display_data",
          "data": {
            "text/plain": [
              "<IPython.core.display.Javascript object>"
            ],
            "application/javascript": [
              "download(\"download_199f4233-bb73-46dd-803d-975e157b3499\", \"Loss_Visualisation.pdf\", 11387)"
            ]
          },
          "metadata": {}
        },
        {
          "output_type": "display_data",
          "data": {
            "text/plain": [
              "<Figure size 640x480 with 1 Axes>"
            ],
            "image/png": "[encoded data removed]"
          },
          "metadata": {}
        }
      ]
    },
    {
      "cell_type": "code",
      "source": [
        "plt.plot(history.history[\"accuracy\"],color = 'red', label = 'train_accuracy')\n",
        "plt.plot(history.history[\"val_accuracy\"],color = 'blue', label = 'val_accuracy')\n",
        "plt.title('Accuracy Visualisation')\n",
        "plt.xlabel('Epochs')\n",
        "plt.ylabel('Accuracy')\n",
        "plt.legend()"
      ],
      "metadata": {
        "colab": {
          "base_uri": "https://localhost:8080/",
          "height": 490
        },
        "id": "isC8kTzBz6CM",
        "outputId": "72f33341-1ecd-499c-98cc-e75896e2f48c"
      },
      "execution_count": 56,
      "outputs": [
        {
          "output_type": "execute_result",
          "data": {
            "text/plain": [
              "<matplotlib.legend.Legend at 0x7f1ae75b58d0>"
            ]
          },
          "metadata": {},
          "execution_count": 56
        },
        {
          "output_type": "display_data",
          "data": {
            "text/plain": [
              "<Figure size 640x480 with 1 Axes>"
            ],
            "image/png": "[encoded data removed]"
          },
          "metadata": {}
        }
      ]
    },
    {
      "cell_type": "code",
      "source": [
        "#loading best model\n",
        "model.load_weights('model.weights.best.hdf5')"
      ],
      "metadata": {
        "id": "_Fl7Ehn50aRw"
      },
      "execution_count": 81,
      "outputs": []
    },
    {
      "cell_type": "markdown",
      "source": [
        "Testing our model on first 2000 entries of train dataframe"
      ],
      "metadata": {
        "id": "DR-1m8g5CfMw"
      }
    },
    {
      "cell_type": "code",
      "source": [
        "newdf = df.copy()"
      ],
      "metadata": {
        "id": "1e77dQmg1URD"
      },
      "execution_count": 82,
      "outputs": []
    },
    {
      "cell_type": "code",
      "source": [
        "new_df=newdf[0:2000]"
      ],
      "metadata": {
        "id": "6wBKU0C52Yv7"
      },
      "execution_count": 83,
      "outputs": []
    },
    {
      "cell_type": "code",
      "source": [
        "new_df.dropna(inplace=True)\n",
        "\n",
        "# Operation 2: Convert to lowercase\n",
        "new_df['new_ques1'] = new_df['question1'].apply(lower_casing)\n",
        "new_df['new_ques2'] = new_df['question2'].apply(lower_casing)\n",
        "\n",
        "new_df=new_df.drop(columns=['question1', 'question2'])\n",
        "\n",
        "# Operation 3: Replace punctuation and short forms\n",
        "new_df['new_ques1'] = new_df['new_ques1'].apply(replacements)\n",
        "new_df['new_ques2'] = new_df['new_ques2'].apply(replacements)\n",
        "\n",
        "# Operation 4: converting numbers to text\n",
        "new_df['new_ques1'] = new_df['new_ques1'].apply(num_to_words)\n",
        "new_df['new_ques2'] = new_df['new_ques2'].apply(num_to_words)\n",
        "\n",
        "# Operation 5: Snowball Stemming\n",
        "new_df['new_ques1'] = new_df['new_ques1'].apply(stem_words)\n",
        "new_df['new_ques2'] = new_df['new_ques2'].apply(stem_words)\n",
        "\n",
        "# Operation 6: Removing Stopwords\n",
        "new_df['new_ques1'] = new_df['new_ques1'].apply(remove_stopwords)\n",
        "new_df['new_ques2'] = new_df['new_ques2'].apply(remove_stopwords)"
      ],
      "metadata": {
        "id": "o-AtjSkw2ziq"
      },
      "execution_count": 84,
      "outputs": []
    },
    {
      "cell_type": "code",
      "source": [
        "test_seq_que_1 = tokenizer.texts_to_sequences(new_df['new_ques1'].values)\n",
        "test_seq_que_2 = tokenizer.texts_to_sequences(new_df['new_ques2'].values)\n",
        "\n",
        "# Pad sequences to a fixed length\n",
        "test_seq_que_1 = pad_sequences(test_seq_que_1, maxlen=maxlen,  padding='post')\n",
        "test_seq_que_2 = pad_sequences(test_seq_que_2, maxlen=maxlen,  padding='post')"
      ],
      "metadata": {
        "id": "yfpdKw4y4W9Y"
      },
      "execution_count": 85,
      "outputs": []
    },
    {
      "cell_type": "code",
      "source": [
        "pred=model.predict([test_seq_que_1, test_seq_que_2])"
      ],
      "metadata": {
        "colab": {
          "base_uri": "https://localhost:8080/"
        },
        "id": "R5RVVr694wyW",
        "outputId": "a9c07293-b161-418d-8353-ba49f1ce301d"
      },
      "execution_count": 86,
      "outputs": [
        {
          "output_type": "stream",
          "name": "stdout",
          "text": [
            "63/63 [==============================] - 1s 23ms/step\n"
          ]
        }
      ]
    },
    {
      "cell_type": "code",
      "source": [
        "pred"
      ],
      "metadata": {
        "colab": {
          "base_uri": "https://localhost:8080/"
        },
        "id": "9E9rUzhJ6S_K",
        "outputId": "9ca4abaf-a3e2-4b0d-9c5f-20e6eea3f055"
      },
      "execution_count": 87,
      "outputs": [
        {
          "output_type": "execute_result",
          "data": {
            "text/plain": [
              "array([[0.65381086],\n",
              "       [0.01442571],\n",
              "       [0.00750405],\n",
              "       ...,\n",
              "       [0.02680552],\n",
              "       [0.91988903],\n",
              "       [0.45944226]], dtype=float32)"
            ]
          },
          "metadata": {},
          "execution_count": 87
        }
      ]
    },
    {
      "cell_type": "code",
      "source": [
        "pred_binary=(pred > threshold).astype(int)\n",
        "pred_binary[:10]"
      ],
      "metadata": {
        "colab": {
          "base_uri": "https://localhost:8080/"
        },
        "id": "pwjWVJGb46Ad",
        "outputId": "ba4c1ce0-a645-49dc-df98-975cb8ec9523"
      },
      "execution_count": 88,
      "outputs": [
        {
          "output_type": "execute_result",
          "data": {
            "text/plain": [
              "array([[1],\n",
              "       [0],\n",
              "       [0],\n",
              "       [0],\n",
              "       [0],\n",
              "       [1],\n",
              "       [0],\n",
              "       [0],\n",
              "       [0],\n",
              "       [0]])"
            ]
          },
          "metadata": {},
          "execution_count": 88
        }
      ]
    },
    {
      "cell_type": "code",
      "source": [
        "y_true=list(new_df['is_duplicate'].values)\n",
        "y_pred=list(list(pred_binary.ravel()))"
      ],
      "metadata": {
        "id": "tY5mMeuV6Y94"
      },
      "execution_count": 89,
      "outputs": []
    },
    {
      "cell_type": "code",
      "source": [
        "from sklearn.metrics import classification_report\n",
        "print(classification_report(y_true, y_pred))"
      ],
      "metadata": {
        "colab": {
          "base_uri": "https://localhost:8080/"
        },
        "id": "BEqMKHFR6gW6",
        "outputId": "1c7af7e9-9e0a-4cc5-e03a-bcbf63043321"
      },
      "execution_count": 90,
      "outputs": [
        {
          "output_type": "stream",
          "name": "stdout",
          "text": [
            "              precision    recall  f1-score   support\n",
            "\n",
            "           0       0.90      0.83      0.87      1258\n",
            "           1       0.75      0.85      0.80       742\n",
            "\n",
            "    accuracy                           0.84      2000\n",
            "   macro avg       0.83      0.84      0.83      2000\n",
            "weighted avg       0.85      0.84      0.84      2000\n",
            "\n"
          ]
        }
      ]
    },
    {
      "cell_type": "code",
      "source": [
        "from sklearn.metrics import confusion_matrix\n",
        "confusion_matrix(y_true,y_pred)"
      ],
      "metadata": {
        "colab": {
          "base_uri": "https://localhost:8080/"
        },
        "id": "BLtj1l5770gm",
        "outputId": "419d3773-5506-4569-f9db-9a53a8eeefca"
      },
      "execution_count": 91,
      "outputs": [
        {
          "output_type": "execute_result",
          "data": {
            "text/plain": [
              "array([[1049,  209],\n",
              "       [ 111,  631]])"
            ]
          },
          "metadata": {},
          "execution_count": 91
        }
      ]
    },
    {
      "cell_type": "code",
      "source": [],
      "metadata": {
        "id": "hTzh_lpW8qCk"
      },
      "execution_count": null,
      "outputs": []
    }
  ]
}